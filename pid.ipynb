{
 "cells": [
  {
   "cell_type": "code",
   "execution_count": null,
   "metadata": {},
   "outputs": [],
   "source": [
    "import matplotlib.pyplot as plt\n",
    "import numpy as np"
   ]
  },
  {
   "cell_type": "code",
   "execution_count": null,
   "metadata": {},
   "outputs": [],
   "source": [
    "class PIDController:\n",
    "    def __init__(self, Kp, Ki, Kd):\n",
    "        self.Kp = Kp\n",
    "        self.Ki = Ki\n",
    "        self.Kd = Kd\n",
    "        self.prev_error = 0.0\n",
    "        self.integral = 0.0\n",
    "\n",
    "    def compute_control_output(self, error: float, dt: float) -> float:\n",
    "        \"\"\"\n",
    "        Given an error and a difference in time, calculate the total control output.\n",
    "        Update the class variable `previous_error`.\n",
    "        :param error:\n",
    "        :param dt:\n",
    "        :return total_output:\n",
    "        \"\"\"        \n",
    "\n",
    "        # Calculate proportional output\n",
    "        proportional_output = self.Kp * error\n",
    "        \n",
    "        # Calculate integral output\n",
    "        self.integral += error * dt\n",
    "        integral_output = self.Ki * self.integral\n",
    "\n",
    "        # Calculate derivative output\n",
    "        rate_of_change_of_error = (error - self.prev_error) / dt\n",
    "        derivative_output = self.Kd * rate_of_change_of_error\n",
    "\n",
    "        # Calculate total output\n",
    "        total_output = proportional_output + integral_output + derivative_output\n",
    "        self.prev_error = error\n",
    "        return total_output"
   ]
  },
  {
   "cell_type": "code",
   "execution_count": null,
   "metadata": {},
   "outputs": [],
   "source": [
    "class DCMotor:\n",
    "    def __init__(self, K, J, b):\n",
    "        self.K = K  # Motor constant\n",
    "        self.J = J  # Motor inertia\n",
    "        self.b = b  # Friction coefficient\n",
    "\n",
    "    def update_speed(self, voltage, dt):\n",
    "        torque = self.K * voltage\n",
    "        acceleration = (torque - self.b) / self.J\n",
    "        delta_speed = acceleration * dt\n",
    "        return delta_speed"
   ]
  },
  {
   "cell_type": "code",
   "execution_count": null,
   "metadata": {},
   "outputs": [],
   "source": [
    "def simulate_motor_response(motor, voltage_input, total_time, dt):\n",
    "    time = 0\n",
    "    speed = 0  # Initial speed\n",
    "    speeds = [speed]\n",
    "    \n",
    "    while time < total_time:\n",
    "        delta_speed = motor.update_speed(voltage_input, dt)\n",
    "        speed += delta_speed\n",
    "        speeds.append(speed)\n",
    "        time += dt\n",
    "    \n",
    "    return speeds\n",
    "\n",
    "# Example usage\n",
    "motor = DCMotor(K=0.1, J=0.01, b=0.05)\n",
    "voltage_input = 5.0\n",
    "total_time = 10  \n",
    "dt = 0.1\n",
    "\n",
    "speeds = simulate_motor_response(motor, voltage_input, total_time, dt)"
   ]
  },
  {
   "cell_type": "code",
   "execution_count": null,
   "metadata": {},
   "outputs": [],
   "source": [
    "def plot_speed_response(speeds, dt):\n",
    "    time = [i * dt for i in range(len(speeds))]\n",
    "    plt.plot(time, speeds)\n",
    "    plt.xlabel('Time (s)')\n",
    "    plt.ylabel('Motor Speed (rad/s)')\n",
    "    plt.title('Motor Speed Response')\n",
    "    plt.grid(True)\n",
    "    plt.show()\n",
    "\n",
    "# Example usage\n",
    "plot_speed_response(speeds, dt)"
   ]
  },
  {
   "cell_type": "code",
   "execution_count": null,
   "metadata": {},
   "outputs": [],
   "source": [
    "pid_controller = PIDController(Kp=1.0, Ki=0.1, Kd=0.01)\n",
    "\n",
    "# Define setpoint (desired motor speed)\n",
    "setpoint = 1.0  # rad/s"
   ]
  },
  {
   "cell_type": "code",
   "execution_count": null,
   "metadata": {},
   "outputs": [],
   "source": [
    "# Control loop\n",
    "control_inputs = []\n",
    "current_speed = 0.0\n",
    "\n",
    "for speed in speeds:\n",
    "    error = setpoint - current_speed\n",
    "    control_action = pid_controller.compute_control_output(error, dt)\n",
    "    current_speed += control_action\n",
    "    control_inputs.append(control_action)"
   ]
  },
  {
   "cell_type": "code",
   "execution_count": null,
   "metadata": {},
   "outputs": [],
   "source": [
    "time = [i * dt for i in range(len(control_inputs))]\n",
    "plt.plot(time, control_inputs)\n",
    "plt.xlabel('Time (s)')\n",
    "plt.ylabel('Control Input (Voltage)')\n",
    "plt.title('Control Input Over Time')\n",
    "plt.grid(True)\n",
    "plt.show()"
   ]
  }
 ],
 "metadata": {
  "kernelspec": {
   "display_name": "Python 3",
   "language": "python",
   "name": "python3"
  },
  "language_info": {
   "codemirror_mode": {
    "name": "ipython",
    "version": 3
   },
   "file_extension": ".py",
   "mimetype": "text/x-python",
   "name": "python",
   "nbconvert_exporter": "python",
   "pygments_lexer": "ipython3",
   "version": "3.10.12"
  }
 },
 "nbformat": 4,
 "nbformat_minor": 2
}
